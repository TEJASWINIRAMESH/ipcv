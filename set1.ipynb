{
 "cells": [
  {
   "cell_type": "code",
   "execution_count": null,
   "metadata": {},
   "outputs": [
    {
     "name": "stdout",
     "output_type": "stream",
     "text": [
      "[[[27 35 27]\n",
      "  [28 36 28]\n",
      "  [30 38 30]\n",
      "  ...\n",
      "  [ 9  1  8]\n",
      "  [11  1  8]\n",
      "  [11  1  8]]\n",
      "\n",
      " [[29 37 29]\n",
      "  [30 38 30]\n",
      "  [32 40 32]\n",
      "  ...\n",
      "  [ 9  1  8]\n",
      "  [10  2  9]\n",
      "  [10  2  9]]\n",
      "\n",
      " [[32 40 32]\n",
      "  [33 41 33]\n",
      "  [34 42 34]\n",
      "  ...\n",
      "  [ 8  2  9]\n",
      "  [ 9  3 10]\n",
      "  [10  2  9]]\n",
      "\n",
      " ...\n",
      "\n",
      " [[16 25 23]\n",
      "  [16 25 23]\n",
      "  [16 25 23]\n",
      "  ...\n",
      "  [ 6  8 13]\n",
      "  [ 5  9 14]\n",
      "  [ 4 10 15]]\n",
      "\n",
      " [[15 24 22]\n",
      "  [15 24 22]\n",
      "  [16 25 23]\n",
      "  ...\n",
      "  [ 6  8 13]\n",
      "  [ 2 10 15]\n",
      "  [ 1 11 16]]\n",
      "\n",
      " [[15 24 22]\n",
      "  [15 24 22]\n",
      "  [16 25 23]\n",
      "  ...\n",
      "  [ 5  9 14]\n",
      "  [ 2 10 15]\n",
      "  [ 1 11 16]]]\n"
     ]
    }
   ],
   "source": [
    "\n",
    "import numpy as np\n",
    "import cv2\n",
    "\n",
    "image1 = cv2.imread('imag1.jpg')\n",
    "image2 = cv2.imread('imag2.jpg')\n",
    "\n",
    "\n",
    "if image1.shape != image2.shape:\n",
    "    print(\"Error: Images must have the same dimensions.\")\n",
    "else:\n",
    "    \n",
    "    output_image = cv2.absdiff(image1, image2)\n",
    "    print(output_image)\n",
    "\n",
    "    \n",
    "    cv2.imshow(\"Absolute Difference\", output_image)\n",
    "\n",
    "    cv2.waitKey(0)\n",
    "    cv2.destroyAllWindows()\n"
   ]
  },
  {
   "cell_type": "code",
   "execution_count": 1,
   "metadata": {},
   "outputs": [
    {
     "ename": "ModuleNotFoundError",
     "evalue": "No module named 'skimage'",
     "output_type": "error",
     "traceback": [
      "\u001b[1;31m---------------------------------------------------------------------------\u001b[0m",
      "\u001b[1;31mModuleNotFoundError\u001b[0m                       Traceback (most recent call last)",
      "Cell \u001b[1;32mIn[1], line 3\u001b[0m\n\u001b[0;32m      1\u001b[0m \u001b[38;5;28;01mimport\u001b[39;00m \u001b[38;5;21;01mcv2\u001b[39;00m\n\u001b[0;32m      2\u001b[0m \u001b[38;5;28;01mimport\u001b[39;00m \u001b[38;5;21;01mnumpy\u001b[39;00m \u001b[38;5;28;01mas\u001b[39;00m \u001b[38;5;21;01mnp\u001b[39;00m\n\u001b[1;32m----> 3\u001b[0m \u001b[38;5;28;01mfrom\u001b[39;00m \u001b[38;5;21;01mskimage\u001b[39;00m\u001b[38;5;21;01m.\u001b[39;00m\u001b[38;5;21;01mfeature\u001b[39;00m \u001b[38;5;28;01mimport\u001b[39;00m hog\n\u001b[0;32m      4\u001b[0m \u001b[38;5;28;01mfrom\u001b[39;00m \u001b[38;5;21;01mskimage\u001b[39;00m \u001b[38;5;28;01mimport\u001b[39;00m exposure\n\u001b[0;32m      7\u001b[0m image \u001b[38;5;241m=\u001b[39m cv2\u001b[38;5;241m.\u001b[39mimread(\u001b[38;5;124m'\u001b[39m\u001b[38;5;124mimag1.jpg\u001b[39m\u001b[38;5;124m'\u001b[39m, cv2\u001b[38;5;241m.\u001b[39mIMREAD_GRAYSCALE)\n",
      "\u001b[1;31mModuleNotFoundError\u001b[0m: No module named 'skimage'"
     ]
    }
   ],
   "source": [
    "import cv2\n",
    "import numpy as np\n",
    "from skimage.feature import hog\n",
    "from skimage import exposure\n",
    "\n",
    "\n",
    "image = cv2.imread('imag1.jpg', cv2.IMREAD_GRAYSCALE)\n",
    "image = cv2.resize(image, (64, 128))\n",
    "\n",
    "\n",
    "gradient_x = cv2.Sobel(image, cv2.CV_64F, 1, 0, ksize=1)\n",
    "gradient_y = cv2.Sobel(image, cv2.CV_64F, 0, 1, ksize=1)\n",
    "\n",
    "\n",
    "magnitude = np.sqrt(gradient_x**2 + gradient_y**2)\n",
    "orientation = np.arctan2(gradient_y, gradient_x) * (180 / np.pi) % 180  \n",
    "\n",
    "cell_size = (8, 8)    \n",
    "block_size = (2, 2)   \n",
    "nbins = 9            \n",
    "\n",
    "hog_features, hog_image = hog(image,\n",
    "                              orientations=nbins,\n",
    "                              pixels_per_cell=cell_size,\n",
    "                              cells_per_block=block_size,\n",
    "                              block_norm='L2-Hys',\n",
    "                              visualize=True,\n",
    "                              transform_sqrt=True)\n",
    "\n",
    "print(hog_features)\n",
    "\n",
    "\n",
    "hog_image_rescaled = exposure.rescale_intensity(hog_image, in_range=(0, 10))\n",
    "\n",
    "cv2.imshow(\"Original Image\", image)\n",
    "cv2.imshow(\"HOG Features\", hog_image_rescaled)\n",
    "cv2.waitKey(0)\n",
    "cv2.destroyAllWindows()\n"
   ]
  },
  {
   "cell_type": "code",
   "execution_count": null,
   "metadata": {},
   "outputs": [],
   "source": []
  },
  {
   "cell_type": "code",
   "execution_count": 2,
   "metadata": {},
   "outputs": [
    {
     "name": "stdout",
     "output_type": "stream",
     "text": [
      "Collecting skimage\n",
      "  Downloading skimage-0.0.tar.gz (757 bytes)\n",
      "  Installing build dependencies: started\n",
      "  Installing build dependencies: finished with status 'done'\n",
      "  Getting requirements to build wheel: started\n",
      "  Getting requirements to build wheel: finished with status 'error'\n"
     ]
    },
    {
     "name": "stderr",
     "output_type": "stream",
     "text": [
      "  error: subprocess-exited-with-error\n",
      "  \n",
      "  × Getting requirements to build wheel did not run successfully.\n",
      "  │ exit code: 1\n",
      "  ╰─> [3 lines of output]\n",
      "      \n",
      "      *** Please install the `scikit-image` package (instead of `skimage`) ***\n",
      "      \n",
      "      [end of output]\n",
      "  \n",
      "  note: This error originates from a subprocess, and is likely not a problem with pip.\n",
      "error: subprocess-exited-with-error\n",
      "\n",
      "× Getting requirements to build wheel did not run successfully.\n",
      "│ exit code: 1\n",
      "╰─> See above for output.\n",
      "\n",
      "note: This error originates from a subprocess, and is likely not a problem with pip.\n",
      "\n",
      "[notice] A new release of pip is available: 24.0 -> 24.3.1\n",
      "[notice] To update, run: C:\\Users\\PC\\AppData\\Local\\Microsoft\\WindowsApps\\PythonSoftwareFoundation.Python.3.11_qbz5n2kfra8p0\\python.exe -m pip install --upgrade pip\n"
     ]
    }
   ],
   "source": [
    "!pip install skimage"
   ]
  },
  {
   "cell_type": "code",
   "execution_count": null,
   "metadata": {},
   "outputs": [],
   "source": []
  }
 ],
 "metadata": {
  "kernelspec": {
   "display_name": "Python 3",
   "language": "python",
   "name": "python3"
  },
  "language_info": {
   "codemirror_mode": {
    "name": "ipython",
    "version": 3
   },
   "file_extension": ".py",
   "mimetype": "text/x-python",
   "name": "python",
   "nbconvert_exporter": "python",
   "pygments_lexer": "ipython3",
   "version": "3.11.9"
  }
 },
 "nbformat": 4,
 "nbformat_minor": 2
}
