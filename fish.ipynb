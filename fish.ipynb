import os
import numpy as np
import matplotlib.pyplot as plt
import tensorflow as tf
from tensorflow.keras.preprocessing.image import ImageDataGenerator
from sklearn.model_selection import train_test_split
import cv2

# 1. Load the dataset
def load_dataset(image_folder, labels_file):
    images = []
    labels = []
    
    with open(labels_file, 'r') as f:
        for line in f:
            path, label = line.strip().split()
            img = cv2.imread(os.path.join(image_folder, path))
            if img is not None:
                images.append(img)
                labels.append(int(label))
    
    images = np.array(images)
    labels = np.array(labels)
    return images, labels

image_folder = "images"  # Adjust path if needed
labels_file = "labels.txt"
images, labels = load_dataset(image_folder, labels_file)

# 2. Split into training and testing datasets
X_train, X_test, y_train, y_test = train_test_split(images, labels, test_size=0.2, random_state=42)

print(f"Number of training images: {len(X_train)}")
print(f"Number of testing images: {len(X_test)}")

# 3. Plot some images
def plot_images(images, labels, count=5):
    plt.figure(figsize=(10, 5))
    for i in range(count):
        plt.subplot(1, count, i+1)
        plt.imshow(cv2.cvtColor(images[i], cv2.COLOR_BGR2RGB))
        plt.title(f"Label: {labels[i]}")
        plt.axis('off')
    plt.show()

plot_images(X_train, y_train)

# 4. Image Augmentation
augmentor = ImageDataGenerator(
    rotation_range=30,
    horizontal_flip=True,
    contrast_stretching=True
)

# Apply augmentations
def augment_images(generator, X, y):
    augmented_images = []
    augmented_labels = []
    for img, label in zip(X, y):
        augmented = generator.flow(
            np.expand_dims(img, axis=0),
            batch_size=1
        )
        augmented_images.append(augmented[0][0])
        augmented_labels.append(label)
    return np.array(augmented_images), np.array(augmented_labels)

augmented_X_train, augmented_y_train = augment_images(augmentor, X_train, y_train)

# Show new numbers of training/testing images
print(f"Number of training images after augmentation: {len(augmented_X_train)}")
print(f"Number of testing images: {len(X_test)}")

# Normalize data
augmented_X_train = augmented_X_train / 255.0
X_test = X_test / 255.0

# 6. Build CNN model
def create_cnn_model():
    model = tf.keras.Sequential([
        tf.keras.layers.Conv2D(32, (3, 3), activation='relu', input_shape=(128, 128, 3)),
        tf.keras.layers.MaxPooling2D((2, 2)),
        tf.keras.layers.Conv2D(64, (3, 3), activation='relu'),
        tf.keras.layers.MaxPooling2D((2, 2)),
        tf.keras.layers.Flatten(),
        tf.keras.layers.Dense(128, activation='relu'),
        tf.keras.layers.Dense(1, activation='sigmoid')
    ])
    model.compile(optimizer='adam',
                  loss='binary_crossentropy',
                  metrics=['accuracy'])
    return model

# Resize images for CNN input
def preprocess_images(images, target_size=(128, 128)):
    return np.array([cv2.resize(img, target_size) for img in images])

augmented_X_train = preprocess_images(augmented_X_train)
X_test = preprocess_images(X_test)

# Train CNN
model = create_cnn_model()
history = model.fit(augmented_X_train, augmented_y_train, epochs=10, validation_data=(X_test, y_test))

# Show training and testing accuracy
train_acc = history.history['accuracy'][-1]
test_acc = history.history['val_accuracy'][-1]

print(f"Training Accuracy: {train_acc * 100:.2f}%")
print(f"Testing Accuracy: {test_acc * 100:.2f}%")

# Compare accuracies
# Note: You can rerun the model without augmentations by excluding augmentation-related steps
