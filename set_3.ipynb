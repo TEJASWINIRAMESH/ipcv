import cv2
import numpy as np
from skimage.feature import local_binary_pattern
import matplotlib.pyplot as plt

# Load the image
image_path = 'image.jpg'  # Replace with your image path
image = cv2.imread(image_path, cv2.IMREAD_GRAYSCALE)

if image is None:
    print("Error: Image not found")
    exit()

# Step 1: Compute the LBP (Local Binary Patterns) features
radius = 1  # Radius for LBP
n_points = 8 * radius  # Number of points for LBP
lbp_image = local_binary_pattern(image, n_points, radius, method='uniform')

# Step 2: Normalize the LBP image to scale values between 0 and 255
lbp_image_normalized = np.uint8(lbp_image / np.max(lbp_image) * 255)

# Step 3: Segment the image based on LBP features (classification into regions)
# Use k-means clustering to classify the LBP values into distinct regions
Z = lbp_image_normalized.reshape((-1, 1))
Z = np.float32(Z)

# Define criteria and apply kmeans()
criteria = (cv2.TERM_CRITERIA_EPS + cv2.TERM_CRITERIA_MAX_ITER, 100, 0.2)
k = 3  # Number of clusters (regions)
_, labels, centers = cv2.kmeans(Z, k, None, criteria, 10, cv2.KMEANS_RANDOM_CENTERS)

# Reshape labels back to the original image shape
segmented_image = labels.reshape(image.shape)

# Step 4: Visualize the results
plt.figure(figsize=(12, 6))

# LBP Image
plt.subplot(1, 3, 1)
plt.imshow(lbp_image, cmap='gray')
plt.title('LBP Image')

# Normalized LBP Image
plt.subplot(1, 3, 2)
plt.imshow(lbp_image_normalized, cmap='gray')
plt.title('Normalized LBP Image')

# Segmented Image
plt.subplot(1, 3, 3)
plt.imshow(segmented_image, cmap='jet')
plt.title('Segmented Image')

plt.show()

# Optionally, save the segmented image
cv2.imwrite('segmented_image.jpg', segmented_image)
